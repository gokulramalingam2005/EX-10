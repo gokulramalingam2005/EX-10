{
 "cells": [
  {
   "cell_type": "code",
   "execution_count": 2,
   "metadata": {},
   "outputs": [],
   "source": [
    "## Developed : Kavinraja D\n",
    "## Reg no : 212222240047\n",
    "import socket\n",
    "s = socket.socket()\n",
    "host = socket.gethostname()\n",
    "port = 60000\n",
    "s.connect((host, port))\n",
    "s.send(\"Hello server!\".encode())\n",
    "with open('received_file', 'wb') as f:\n",
    "    while True:\n",
    "        print('receiving data...')\n",
    "        data = s.recv(1024)\n",
    "        print('data=%s', (data))\n",
    "        if not data:\n",
    "            break\n",
    "        f.write(data)\n",
    "f.close()\n",
    "print('Successfully get the file')\n",
    "s.close()\n",
    "print('connection closed')"
   ]
  }
 ],
 "metadata": {
  "kernelspec": {
   "display_name": "Python 3",
   "language": "python",
   "name": "python3"
  },
  "language_info": {
   "codemirror_mode": {
    "name": "ipython",
    "version": 3
   },
   "file_extension": ".py",
   "mimetype": "text/x-python",
   "name": "python",
   "nbconvert_exporter": "python",
   "pygments_lexer": "ipython3",
   "version": "3.11.0"
  },
  "orig_nbformat": 4
 },
 "nbformat": 4,
 "nbformat_minor": 2
}
