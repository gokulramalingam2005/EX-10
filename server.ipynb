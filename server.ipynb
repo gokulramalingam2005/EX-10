{
 "cells": [
  {
   "cell_type": "code",
   "execution_count": null,
   "metadata": {},
   "outputs": [],
   "source": [
    "import socket\n",
    "port = 60000\n",
    "s = socket.socket()\n",
    "host = socket.gethostname()\n",
    "s.bind((host, port))\n",
    "s.listen(5)\n",
    "while True:\n",
    "    conn, addr = s.accept()\n",
    "    data = conn.recv(1024)\n",
    "    print('Server received', repr(data))\n",
    "    filename='mytext.txt'\n",
    "    f = open(filename,'rb')\n",
    "    l = f.read(1024)\n",
    "    while (l):\n",
    "        conn.send(l)\n",
    "        print('Sent ',repr(l))\n",
    "        l = f.read(1024)\n",
    "    f.close()\n",
    "    print('Done sending')\n",
    "    conn.send('Thank you for connecting'.encode())\n",
    "    conn.close()"
   ]
  }
 ],
 "metadata": {
  "kernelspec": {
   "display_name": "Python 3",
   "language": "python",
   "name": "python3"
  },
  "language_info": {
   "codemirror_mode": {
    "name": "ipython",
    "version": 3
   },
   "file_extension": ".py",
   "mimetype": "text/x-python",
   "name": "python",
   "nbconvert_exporter": "python",
   "pygments_lexer": "ipython3",
   "version": "3.11.0"
  },
  "orig_nbformat": 4
 },
 "nbformat": 4,
 "nbformat_minor": 2
}
